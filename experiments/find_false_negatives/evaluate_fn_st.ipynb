{
 "cells": [
  {
   "cell_type": "code",
   "execution_count": 1,
   "metadata": {
    "collapsed": true
   },
   "outputs": [],
   "source": [
    "import numpy as np\n",
    "import pandas as pd\n",
    "import torch\n",
    "from torch.nn import functional as F\n",
    "from sklearn.metrics import confusion_matrix\n",
    "from tqdm import tqdm\n",
    "from pathlib import Path\n",
    "import sys\n",
    "from matplotlib import pyplot as plt"
   ]
  },
  {
   "cell_type": "code",
   "execution_count": 2,
   "outputs": [
    {
     "data": {
      "text/plain": "<torch._C.Generator at 0x119e7d6d0>"
     },
     "execution_count": 2,
     "metadata": {},
     "output_type": "execute_result"
    }
   ],
   "source": [
    "PROJECT_DIR = Path(\"/Users/jonas/Documents/Bachelorarbeit/injection_molding_simulation\")\n",
    "SRC_DIR = PROJECT_DIR / \"src\"\n",
    "sys.path.append(str(SRC_DIR))\n",
    "\n",
    "from dataset import InjectionMoldingDataset\n",
    "\n",
    "torch.manual_seed(42)"
   ],
   "metadata": {
    "collapsed": false,
    "pycharm": {
     "name": "#%%\n"
    }
   }
  },
  {
   "cell_type": "code",
   "execution_count": 3,
   "outputs": [
    {
     "data": {
      "text/plain": "200"
     },
     "execution_count": 3,
     "metadata": {},
     "output_type": "execute_result"
    }
   ],
   "source": [
    "dataset = InjectionMoldingDataset(0.004, 0.03, skip_processing=True).shuffle()[:1000]\n",
    "test_dataset = dataset[800:]\n",
    "len(test_dataset)"
   ],
   "metadata": {
    "collapsed": false,
    "pycharm": {
     "name": "#%%\n"
    }
   }
  },
  {
   "cell_type": "code",
   "execution_count": 4,
   "outputs": [
    {
     "name": "stderr",
     "output_type": "stream",
     "text": [
      "100%|██████████| 200/200 [04:33<00:00,  1.37s/it]\n"
     ]
    }
   ],
   "source": [
    "model_st =  torch.load(\"/Users/jonas/Documents/Bachelorarbeit/injection_molding_simulation/experiments/find_false_negatives/models_fn_penalty/model_epoch_8.pt\")\n",
    "num_fns_st = []\n",
    "for i, d in tqdm(enumerate(test_dataset), total=len(test_dataset)):\n",
    "    with torch.no_grad():\n",
    "        y_true = d.y[:, 0].numpy()\n",
    "        out_st = model_st(d)\n",
    "        y_pred_st = F.softmax(out_st, dim=1).round()[:, 0].numpy()\n",
    "        fn_st = confusion_matrix(y_true, y_pred_st).ravel()[2] # only false negatives\n",
    "        num_fns_st.append(fn_st)"
   ],
   "metadata": {
    "collapsed": false,
    "pycharm": {
     "name": "#%%\n"
    }
   }
  },
  {
   "cell_type": "code",
   "execution_count": 5,
   "outputs": [
    {
     "name": "stderr",
     "output_type": "stream",
     "text": [
      "100%|██████████| 200/200 [04:34<00:00,  1.37s/it]\n"
     ]
    }
   ],
   "source": [
    "model_bl = torch.load(\"/Users/jonas/Documents/Bachelorarbeit/injection_molding_simulation/experiments/find_false_negatives/models_baseline_2/model_epoch_8.pt\")\n",
    "num_fns_bl = []\n",
    "for i, d in tqdm(enumerate(test_dataset), total=len(test_dataset)):\n",
    "    with torch.no_grad():\n",
    "        y_true = d.y[:, 0].numpy()\n",
    "        out_bl = model_bl(d)\n",
    "        y_pred_bl = F.softmax(out_bl, dim=1).round()[:, 0].numpy()\n",
    "        fn_bl = confusion_matrix(y_true, y_pred_bl).ravel()[2] # only false negatives\n",
    "        num_fns_bl.append(fn_bl)"
   ],
   "metadata": {
    "collapsed": false,
    "pycharm": {
     "name": "#%%\n"
    }
   }
  },
  {
   "cell_type": "code",
   "execution_count": 6,
   "outputs": [
    {
     "data": {
      "text/plain": "       num_fns_baseline  num_fns_strafterm\ncount        200.000000         200.000000\nmean          84.360000          84.360000\nstd           32.141496          32.141496\nmin           25.000000          25.000000\n25%           63.750000          63.750000\n50%           81.000000          81.000000\n75%           99.250000          99.250000\nmax          274.000000         274.000000",
      "text/html": "<div>\n<style scoped>\n    .dataframe tbody tr th:only-of-type {\n        vertical-align: middle;\n    }\n\n    .dataframe tbody tr th {\n        vertical-align: top;\n    }\n\n    .dataframe thead th {\n        text-align: right;\n    }\n</style>\n<table border=\"1\" class=\"dataframe\">\n  <thead>\n    <tr style=\"text-align: right;\">\n      <th></th>\n      <th>num_fns_baseline</th>\n      <th>num_fns_strafterm</th>\n    </tr>\n  </thead>\n  <tbody>\n    <tr>\n      <th>count</th>\n      <td>200.000000</td>\n      <td>200.000000</td>\n    </tr>\n    <tr>\n      <th>mean</th>\n      <td>84.360000</td>\n      <td>84.360000</td>\n    </tr>\n    <tr>\n      <th>std</th>\n      <td>32.141496</td>\n      <td>32.141496</td>\n    </tr>\n    <tr>\n      <th>min</th>\n      <td>25.000000</td>\n      <td>25.000000</td>\n    </tr>\n    <tr>\n      <th>25%</th>\n      <td>63.750000</td>\n      <td>63.750000</td>\n    </tr>\n    <tr>\n      <th>50%</th>\n      <td>81.000000</td>\n      <td>81.000000</td>\n    </tr>\n    <tr>\n      <th>75%</th>\n      <td>99.250000</td>\n      <td>99.250000</td>\n    </tr>\n    <tr>\n      <th>max</th>\n      <td>274.000000</td>\n      <td>274.000000</td>\n    </tr>\n  </tbody>\n</table>\n</div>"
     },
     "execution_count": 6,
     "metadata": {},
     "output_type": "execute_result"
    }
   ],
   "source": [
    "pd.DataFrame(\n",
    "    data=zip(num_fns_bl, num_fns_st),\n",
    "    columns=[\"num_fns_baseline\", \"num_fns_strafterm\"]\n",
    ").describe()"
   ],
   "metadata": {
    "collapsed": false,
    "pycharm": {
     "name": "#%%\n"
    }
   }
  },
  {
   "cell_type": "code",
   "execution_count": 7,
   "outputs": [
    {
     "data": {
      "text/plain": "<Figure size 432x288 with 2 Axes>",
      "image/png": "[encoded data removed]"
     },
     "metadata": {
      "needs_background": "light"
     },
     "output_type": "display_data"
    }
   ],
   "source": [
    "# Compare Histograms\n",
    "fig, axes = plt.subplots(1, 2)\n",
    "ax_left, ax_right = axes\n",
    "num_bins = 30\n",
    "\n",
    "ax_left.hist(num_fns_bl, bins=num_bins)\n",
    "ax_left.set_title(\"Num FN Baseline\")\n",
    "\n",
    "ax_right.hist(num_fns_st, bins=num_bins)\n",
    "ax_right.set_title(\"Num FN Strafterm\")\n",
    "\n",
    "plt.show()"
   ],
   "metadata": {
    "collapsed": false,
    "pycharm": {
     "name": "#%%\n"
    }
   }
  },
  {
   "cell_type": "code",
   "execution_count": null,
   "outputs": [],
   "source": [],
   "metadata": {
    "collapsed": false,
    "pycharm": {
     "name": "#%%\n"
    }
   }
  }
 ],
 "metadata": {
  "kernelspec": {
   "display_name": "Python 3",
   "language": "python",
   "name": "python3"
  },
  "language_info": {
   "codemirror_mode": {
    "name": "ipython",
    "version": 2
   },
   "file_extension": ".py",
   "mimetype": "text/x-python",
   "name": "python",
   "nbconvert_exporter": "python",
   "pygments_lexer": "ipython2",
   "version": "2.7.6"
  }
 },
 "nbformat": 4,
 "nbformat_minor": 0
}