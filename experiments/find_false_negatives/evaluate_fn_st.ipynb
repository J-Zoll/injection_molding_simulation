{
 "cells": [
  {
   "cell_type": "code",
   "execution_count": 1,
   "metadata": {
    "collapsed": true
   },
   "outputs": [],
   "source": [
    "import numpy as np\n",
    "import pandas as pd\n",
    "import torch\n",
    "from torch.nn import functional as F\n",
    "from sklearn.metrics import confusion_matrix\n",
    "from tqdm import tqdm\n",
    "from pathlib import Path\n",
    "import sys\n",
    "from matplotlib import pyplot as plt"
   ]
  },
  {
   "cell_type": "code",
   "execution_count": 2,
   "outputs": [
    {
     "data": {
      "text/plain": "<torch._C.Generator at 0x12042d6d0>"
     },
     "execution_count": 2,
     "metadata": {},
     "output_type": "execute_result"
    }
   ],
   "source": [
    "PROJECT_DIR = Path(\"/Users/jonas/Documents/Bachelorarbeit/injection_molding_simulation\")\n",
    "SRC_DIR = PROJECT_DIR / \"src\"\n",
    "sys.path.append(str(SRC_DIR))\n",
    "\n",
    "from dataset import InjectionMoldingDataset\n",
    "\n",
    "torch.manual_seed(42)"
   ],
   "metadata": {
    "collapsed": false,
    "pycharm": {
     "name": "#%%\n"
    }
   }
  },
  {
   "cell_type": "code",
   "execution_count": 3,
   "outputs": [
    {
     "data": {
      "text/plain": "600"
     },
     "execution_count": 3,
     "metadata": {},
     "output_type": "execute_result"
    }
   ],
   "source": [
    "dataset = InjectionMoldingDataset(0.004, 0.03, skip_processing=True).shuffle()\n",
    "test_dataset = dataset[800:1400]\n",
    "len(test_dataset)"
   ],
   "metadata": {
    "collapsed": false,
    "pycharm": {
     "name": "#%%\n"
    }
   }
  },
  {
   "cell_type": "code",
   "execution_count": 4,
   "outputs": [
    {
     "name": "stderr",
     "output_type": "stream",
     "text": [
      "100%|██████████| 600/600 [14:30<00:00,  1.45s/it]\n"
     ]
    }
   ],
   "source": [
    "model_st =  torch.load(\"/Users/jonas/Documents/Bachelorarbeit/injection_molding_simulation/experiments/find_false_negatives/models_st/model_epoch_7.pt\", map_location=torch.device('cpu'))\n",
    "num_fns_st = []\n",
    "for i, d in tqdm(enumerate(test_dataset), total=len(test_dataset)):\n",
    "    with torch.no_grad():\n",
    "        y_true = d.y[:, 0].numpy()\n",
    "        out_st = model_st(d)\n",
    "        y_pred_st = F.softmax(out_st, dim=1).round()[:, 0].numpy()\n",
    "        fn_st = confusion_matrix(y_true, y_pred_st).ravel()[2] # only false negatives\n",
    "        num_fns_st.append(fn_st)"
   ],
   "metadata": {
    "collapsed": false,
    "pycharm": {
     "name": "#%%\n"
    }
   }
  },
  {
   "cell_type": "code",
   "execution_count": 5,
   "outputs": [
    {
     "name": "stderr",
     "output_type": "stream",
     "text": [
      "100%|██████████| 600/600 [14:11<00:00,  1.42s/it]\n"
     ]
    }
   ],
   "source": [
    "model_bl = torch.load(\"/Users/jonas/Documents/Bachelorarbeit/injection_molding_simulation/experiments/find_false_negatives/models_baseline_2/model_epoch_7.pt\")\n",
    "num_fns_bl = []\n",
    "for i, d in tqdm(enumerate(test_dataset), total=len(test_dataset)):\n",
    "    with torch.no_grad():\n",
    "        y_true = d.y[:, 0].numpy()\n",
    "        out_bl = model_bl(d)\n",
    "        y_pred_bl = F.softmax(out_bl, dim=1).round()[:, 0].numpy()\n",
    "        fn_bl = confusion_matrix(y_true, y_pred_bl).ravel()[2] # only false negatives\n",
    "        num_fns_bl.append(fn_bl)"
   ],
   "metadata": {
    "collapsed": false,
    "pycharm": {
     "name": "#%%\n"
    }
   }
  },
  {
   "cell_type": "code",
   "execution_count": 23,
   "outputs": [
    {
     "data": {
      "text/plain": "       num_fns_baseline  num_fns_strafterm\ncount        600.000000         600.000000\nmean          85.171667         104.693333\nstd           34.907637          35.557369\nmin           22.000000          29.000000\n25%           62.000000          81.750000\n50%           79.000000         101.000000\n75%           99.250000         122.000000\nmax          293.000000         319.000000",
      "text/html": "<div>\n<style scoped>\n    .dataframe tbody tr th:only-of-type {\n        vertical-align: middle;\n    }\n\n    .dataframe tbody tr th {\n        vertical-align: top;\n    }\n\n    .dataframe thead th {\n        text-align: right;\n    }\n</style>\n<table border=\"1\" class=\"dataframe\">\n  <thead>\n    <tr style=\"text-align: right;\">\n      <th></th>\n      <th>num_fns_baseline</th>\n      <th>num_fns_strafterm</th>\n    </tr>\n  </thead>\n  <tbody>\n    <tr>\n      <th>count</th>\n      <td>600.000000</td>\n      <td>600.000000</td>\n    </tr>\n    <tr>\n      <th>mean</th>\n      <td>85.171667</td>\n      <td>104.693333</td>\n    </tr>\n    <tr>\n      <th>std</th>\n      <td>34.907637</td>\n      <td>35.557369</td>\n    </tr>\n    <tr>\n      <th>min</th>\n      <td>22.000000</td>\n      <td>29.000000</td>\n    </tr>\n    <tr>\n      <th>25%</th>\n      <td>62.000000</td>\n      <td>81.750000</td>\n    </tr>\n    <tr>\n      <th>50%</th>\n      <td>79.000000</td>\n      <td>101.000000</td>\n    </tr>\n    <tr>\n      <th>75%</th>\n      <td>99.250000</td>\n      <td>122.000000</td>\n    </tr>\n    <tr>\n      <th>max</th>\n      <td>293.000000</td>\n      <td>319.000000</td>\n    </tr>\n  </tbody>\n</table>\n</div>"
     },
     "execution_count": 23,
     "metadata": {},
     "output_type": "execute_result"
    }
   ],
   "source": [
    "pd.DataFrame(\n",
    "    data=np.array([num_fns_bl, num_fns_st]).T,\n",
    "    columns=[\"num_fns_baseline\", \"num_fns_strafterm\"]\n",
    ").describe()"
   ],
   "metadata": {
    "collapsed": false,
    "pycharm": {
     "name": "#%%\n"
    }
   }
  },
  {
   "cell_type": "code",
   "execution_count": 24,
   "outputs": [
    {
     "data": {
      "text/plain": "<Figure size 864x432 with 2 Axes>",
      "image/png": "[encoded data removed]"
     },
     "metadata": {
      "needs_background": "light"
     },
     "output_type": "display_data"
    }
   ],
   "source": [
    "# Compare Histograms\n",
    "fig, axes = plt.subplots(1, 2, figsize=(12, 6))\n",
    "ax_left, ax_right = axes\n",
    "num_bins = 30\n",
    "\n",
    "ax_left.hist(num_fns_bl, bins=num_bins)\n",
    "ax_left.set_title(\"Num FN Baseline\")\n",
    "\n",
    "ax_right.hist(num_fns_st, bins=num_bins)\n",
    "ax_right.set_title(\"Num FN Strafterm\")\n",
    "\n",
    "plt.show()"
   ],
   "metadata": {
    "collapsed": false,
    "pycharm": {
     "name": "#%%\n"
    }
   }
  },
  {
   "cell_type": "markdown",
   "source": [
    "# Gibt es bei beiden Modellen die gleichen \"Problem-Timesteps\" mit besonders vielen FNs?"
   ],
   "metadata": {
    "collapsed": false,
    "pycharm": {
     "name": "#%% md\n"
    }
   }
  },
  {
   "cell_type": "code",
   "execution_count": 32,
   "outputs": [],
   "source": [
    "order_bl = [i for i, num in sorted(zip(range(len(num_fns_bl)), num_fns_bl), key=lambda t: t[1])]\n",
    "order_st = [i for i, num in sorted(zip(range(len(num_fns_st)), num_fns_st), key=lambda t: t[1])]"
   ],
   "metadata": {
    "collapsed": false,
    "pycharm": {
     "name": "#%%\n"
    }
   }
  },
  {
   "cell_type": "code",
   "execution_count": 34,
   "outputs": [
    {
     "data": {
      "text/plain": "[(483, 483),\n (138, 138),\n (405, 320),\n (507, 507),\n (267, 267),\n (445, 445),\n (541, 541),\n (99, 99),\n (579, 326),\n (326, 579)]"
     },
     "execution_count": 34,
     "metadata": {},
     "output_type": "execute_result"
    }
   ],
   "source": [
    "list(zip(order_bl, order_st))[-10:]"
   ],
   "metadata": {
    "collapsed": false,
    "pycharm": {
     "name": "#%%\n"
    }
   }
  },
  {
   "cell_type": "code",
   "execution_count": null,
   "outputs": [],
   "source": [],
   "metadata": {
    "collapsed": false,
    "pycharm": {
     "name": "#%%\n"
    }
   }
  }
 ],
 "metadata": {
  "kernelspec": {
   "display_name": "Python 3",
   "language": "python",
   "name": "python3"
  },
  "language_info": {
   "codemirror_mode": {
    "name": "ipython",
    "version": 2
   },
   "file_extension": ".py",
   "mimetype": "text/x-python",
   "name": "python",
   "nbconvert_exporter": "python",
   "pygments_lexer": "ipython2",
   "version": "2.7.6"
  }
 },
 "nbformat": 4,
 "nbformat_minor": 0
}